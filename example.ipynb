{
 "cells": [
  {
   "cell_type": "code",
   "execution_count": 1,
   "metadata": {
    "datalore": {
     "hide_input_from_viewers": false,
     "hide_output_from_viewers": false,
     "node_id": "sKn5gzaRKnteVbpym05fEy",
     "type": "CODE"
    }
   },
   "outputs": [],
   "source": [
    "import sys\n",
    "import pathlib\n",
    "import cv2\n",
    "import matplotlib.pyplot as plt\n",
    "import numpy as np"
   ]
  },
  {
   "cell_type": "code",
   "execution_count": 2,
   "metadata": {},
   "outputs": [],
   "source": [
    "from BubbleDetection.ellipse_regression import obtain_ellipses\n",
    "from BubbleDetection.edge_detection import get_edges\n",
    "from BubbleDetection.cluster_analysis import get_clusters\n",
    "from BubbleDetection.main import frame_eval"
   ]
  },
  {
   "cell_type": "code",
   "execution_count": null,
   "metadata": {
    "datalore": {
     "hide_input_from_viewers": false,
     "hide_output_from_viewers": false,
     "node_id": "nXW4gXvmqx9daXiZr98t9a",
     "type": "CODE"
    }
   },
   "outputs": [],
   "source": [
    "path = \"data/sample.mp4\"\n",
    "frame_eval(path, 0, 'sample.png')"
   ]
  },
  {
   "cell_type": "code",
   "execution_count": null,
   "metadata": {
    "datalore": {
     "hide_input_from_viewers": false,
     "hide_output_from_viewers": false,
     "node_id": "nAdx1TEtPIbpav8KYAgOJp",
     "type": "CODE"
    }
   },
   "outputs": [],
   "source": [
    "count = 150\n",
    "vidcap = cv2.VideoCapture(path)\n",
    "vidcap.set(cv2.CAP_PROP_POS_FRAMES, count)\n",
    "ret, img = vidcap.read()\n",
    "#img = cv2.cvtColor(img, cv2.COLOR_BGR2GRAY)\n",
    "print(img.shape)\n",
    "img = img[:,:,0]\n",
    "X = get_edges(img)"
   ]
  },
  {
   "cell_type": "code",
   "execution_count": 5,
   "metadata": {
    "datalore": {
     "hide_input_from_viewers": false,
     "hide_output_from_viewers": false,
     "node_id": "sR7BWe15jTXonaXam94Ppb",
     "type": "CODE"
    }
   },
   "outputs": [],
   "source": [
    "clusters, labels = get_clusters(X)\n",
    "ellipses = obtain_ellipses(X, clusters, labels)"
   ]
  },
  {
   "cell_type": "code",
   "execution_count": null,
   "metadata": {
    "datalore": {
     "hide_input_from_viewers": false,
     "hide_output_from_viewers": false,
     "node_id": "3716bulQh5nnRPB3BywSOW",
     "type": "CODE"
    }
   },
   "outputs": [],
   "source": [
    "plt.figure(figsize=(11,8))\n",
    "plt.axis('equal')\n",
    "for i in range(len(clusters)):\n",
    "    indx = np.where(labels == clusters[i])[0]\n",
    "    plt.plot(X[indx, 0], X[indx, 1], '.', color='black')\n",
    "    plt.plot(ellipses[indx, 0], ellipses[indx, 1], color='orange')"
   ]
  },
  {
   "cell_type": "code",
   "execution_count": 7,
   "metadata": {
    "datalore": {
     "hide_input_from_viewers": false,
     "hide_output_from_viewers": false,
     "node_id": "CfftxytJYlFa4YwYdB8NdY",
     "type": "CODE"
    }
   },
   "outputs": [],
   "source": [
    "ellips_img = np.zeros((800, 1280), dtype=np.uint8)\n",
    "el_ind = ellipses.astype(int)\n",
    "for i in range(len(el_ind)):\n",
    "    x, y = el_ind[i]\n",
    "    y = 799 if y > 799 else y\n",
    "    x = 1279 if x > 1279 else x\n",
    "    x = 0 if x < 0 else x\n",
    "    y = 0 if y < 0 else y\n",
    "    ellips_img[y, x] = 225"
   ]
  },
  {
   "cell_type": "code",
   "execution_count": null,
   "metadata": {
    "datalore": {
     "hide_input_from_viewers": false,
     "hide_output_from_viewers": false,
     "node_id": "piRisaWd4jEZxvoOdfge6V",
     "type": "CODE"
    }
   },
   "outputs": [],
   "source": [
    "dst = cv2.add(img, ellips_img)\n",
    "plt.imshow(dst, cmap='gray')"
   ]
  }
 ],
 "metadata": {
  "datalore": {
   "base_environment": "default",
   "computation_mode": "JUPYTER",
   "package_manager": "pip",
   "packages": [],
   "version": 1
  },
  "kernelspec": {
   "display_name": "Python 3",
   "language": "python",
   "name": "python3"
  },
  "language_info": {
   "codemirror_mode": {
    "name": "ipython",
    "version": 3
   },
   "file_extension": ".py",
   "mimetype": "text/x-python",
   "name": "python",
   "nbconvert_exporter": "python",
   "pygments_lexer": "ipython3",
   "version": "3.9.11"
  },
  "vscode": {
   "interpreter": {
    "hash": "37a9322f6d330e38b3c57ac7247512c179b8571a3cc028fe277bb437f80bdf5d"
   }
  }
 },
 "nbformat": 4,
 "nbformat_minor": 4
}
